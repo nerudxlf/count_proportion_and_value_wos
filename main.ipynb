{
  "nbformat": 4,
  "nbformat_minor": 0,
  "metadata": {
    "colab": {
      "name": "main.ipynb",
      "provenance": [],
      "authorship_tag": "ABX9TyPRgCNFrpzX0RXLSJnhPU6Q",
      "include_colab_link": true
    },
    "kernelspec": {
      "name": "python3",
      "display_name": "Python 3"
    },
    "language_info": {
      "name": "python"
    }
  },
  "cells": [
    {
      "cell_type": "markdown",
      "metadata": {
        "id": "view-in-github",
        "colab_type": "text"
      },
      "source": [
        "<a href=\"https://colab.research.google.com/github/nerudxlf/count_proportion_and_value_wos/blob/main/main.ipynb\" target=\"_parent\"><img src=\"https://colab.research.google.com/assets/colab-badge.svg\" alt=\"Open In Colab\"/></a>"
      ]
    },
    {
      "cell_type": "code",
      "metadata": {
        "id": "cWIP732aIvbl"
      },
      "source": [
        "import pandas as pd\n",
        "from pandas import DataFrame\n",
        "from google.colab import files\n",
        "\n",
        "files.upload()"
      ],
      "execution_count": null,
      "outputs": []
    },
    {
      "cell_type": "code",
      "metadata": {
        "id": "AdQ5-mX2I0fh"
      },
      "source": [
        "def count(data: DataFrame, field: str) -> DataFrame:\n",
        "  research_area_list: list = data[\"Research Area\"].to_list()\n",
        "  field_list: list = data[field].to_list()\n",
        "\n",
        "  proportion_dict: dict = {}\n",
        "  value_dict: dict = {}\n",
        "\n",
        "  for i in range(len(research_area_list)):\n",
        "    research_area_split = research_area_list[i].split(\"; \")\n",
        "    for area in research_area_split:\n",
        "      if not (proportion_dict.get(area) is None):\n",
        "        proportion_dict[area] += field_list[i]\n",
        "        value_dict[area] += 1\n",
        "      else:\n",
        "        proportion_dict[area] = 1\n",
        "        value_dict[area] = 1\n",
        "  result_df: DataFrame = pd.DataFrame({\"Research Area\": proportion_dict.keys(), \"Sum\": proportion_dict.values(),\n",
        "                                         \"Values\": value_dict.values()})\n",
        "  result_df[field] = result_df[\"Sum\"] / result_df[\"Values\"]\n",
        "  return result_df"
      ],
      "execution_count": null,
      "outputs": []
    },
    {
      "cell_type": "code",
      "metadata": {
        "id": "mG9VcwWRI42A"
      },
      "source": [
        "data_df_wos: DataFrame = pd.read_excel(\"data/WoS Research Areas 2010-2020.xlsx\")\n",
        "data_df_wos_ar: DataFrame = pd.read_excel(\"data/WoS Research Areas 2010-2020 AR.xlsx\")\n",
        "result_df_wos: DataFrame = count(data_df_wos, \"Category Normalized Citation Impact\")\n",
        "result_df_wos_ar: DataFrame = count(data_df_wos_ar, \"Category Normalized Citation Impact\")\n",
        "result_df_wos.to_excel(\"WoS Research Areas 2010-2020 result.xlsx\", index=False)\n",
        "result_df_wos_ar.to_excel(\"WoS Research Areas 2010-2020 AR result.xlsx\", index=False)"
      ],
      "execution_count": null,
      "outputs": []
    }
  ]
}